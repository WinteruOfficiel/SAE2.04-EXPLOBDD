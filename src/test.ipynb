{
 "cells": [
  {
   "cell_type": "code",
   "execution_count": 1,
   "metadata": {},
   "outputs": [
    {
     "data": {
      "text/html": [
       "<div>\n",
       "<style scoped>\n",
       "    .dataframe tbody tr th:only-of-type {\n",
       "        vertical-align: middle;\n",
       "    }\n",
       "\n",
       "    .dataframe tbody tr th {\n",
       "        vertical-align: top;\n",
       "    }\n",
       "\n",
       "    .dataframe thead th {\n",
       "        text-align: right;\n",
       "    }\n",
       "</style>\n",
       "<table border=\"1\" class=\"dataframe\">\n",
       "  <thead>\n",
       "    <tr style=\"text-align: right;\">\n",
       "      <th></th>\n",
       "      <th>stationcode</th>\n",
       "      <th>name</th>\n",
       "      <th>capacity</th>\n",
       "      <th>coordonnees_geo</th>\n",
       "      <th>lon</th>\n",
       "      <th>lat</th>\n",
       "    </tr>\n",
       "  </thead>\n",
       "  <tbody>\n",
       "    <tr>\n",
       "      <th>0</th>\n",
       "      <td>30002</td>\n",
       "      <td>Jean Rostand - Paul Vaillant Couturier</td>\n",
       "      <td>0</td>\n",
       "      <td>{'lon': 2.4530601033354, 'lat': 48.908168131015}</td>\n",
       "      <td>2.453060</td>\n",
       "      <td>48.908168</td>\n",
       "    </tr>\n",
       "    <tr>\n",
       "      <th>1</th>\n",
       "      <td>17044</td>\n",
       "      <td>Porte de Saint-Ouen - Bessières</td>\n",
       "      <td>42</td>\n",
       "      <td>{'lon': 2.32851451022192, 'lat': 48.8979224085...</td>\n",
       "      <td>2.328515</td>\n",
       "      <td>48.897922</td>\n",
       "    </tr>\n",
       "    <tr>\n",
       "      <th>2</th>\n",
       "      <td>20143</td>\n",
       "      <td>Ramponeau - Belleville</td>\n",
       "      <td>44</td>\n",
       "      <td>{'lon': 2.379056852114, 'lat': 48.871031137596}</td>\n",
       "      <td>2.379057</td>\n",
       "      <td>48.871031</td>\n",
       "    </tr>\n",
       "    <tr>\n",
       "      <th>3</th>\n",
       "      <td>16138</td>\n",
       "      <td>Saint-Cloud - Hippodrome</td>\n",
       "      <td>30</td>\n",
       "      <td>{'lon': 2.254910990595817, 'lat': 48.857721488...</td>\n",
       "      <td>2.254911</td>\n",
       "      <td>48.857721</td>\n",
       "    </tr>\n",
       "    <tr>\n",
       "      <th>4</th>\n",
       "      <td>17008</td>\n",
       "      <td>Porte Pouchet-Bessières</td>\n",
       "      <td>23</td>\n",
       "      <td>{'lon': 2.3230632, 'lat': 48.8978765}</td>\n",
       "      <td>2.323063</td>\n",
       "      <td>48.897877</td>\n",
       "    </tr>\n",
       "    <tr>\n",
       "      <th>...</th>\n",
       "      <td>...</td>\n",
       "      <td>...</td>\n",
       "      <td>...</td>\n",
       "      <td>...</td>\n",
       "      <td>...</td>\n",
       "      <td>...</td>\n",
       "    </tr>\n",
       "    <tr>\n",
       "      <th>1459</th>\n",
       "      <td>16023</td>\n",
       "      <td>Passy - Place du Costa Rica</td>\n",
       "      <td>33</td>\n",
       "      <td>{'lon': 2.2839655, 'lat': 48.8584893}</td>\n",
       "      <td>2.283965</td>\n",
       "      <td>48.858489</td>\n",
       "    </tr>\n",
       "    <tr>\n",
       "      <th>1460</th>\n",
       "      <td>13037</td>\n",
       "      <td>Ivry - Baudricourt</td>\n",
       "      <td>20</td>\n",
       "      <td>{'lon': 2.363106073577468, 'lat': 48.824695995...</td>\n",
       "      <td>2.363106</td>\n",
       "      <td>48.824696</td>\n",
       "    </tr>\n",
       "    <tr>\n",
       "      <th>1461</th>\n",
       "      <td>16104</td>\n",
       "      <td>Paul Valery - Victor Hugo</td>\n",
       "      <td>35</td>\n",
       "      <td>{'lon': 2.288712859153747, 'lat': 48.871374060...</td>\n",
       "      <td>2.288713</td>\n",
       "      <td>48.871374</td>\n",
       "    </tr>\n",
       "    <tr>\n",
       "      <th>1462</th>\n",
       "      <td>12105</td>\n",
       "      <td>Bercy - Villot</td>\n",
       "      <td>34</td>\n",
       "      <td>{'lon': 2.3767850184816, 'lat': 48.841795009027}</td>\n",
       "      <td>2.376785</td>\n",
       "      <td>48.841795</td>\n",
       "    </tr>\n",
       "    <tr>\n",
       "      <th>1463</th>\n",
       "      <td>11201</td>\n",
       "      <td>Faubourg St-Antoine - Place de la Nation</td>\n",
       "      <td>16</td>\n",
       "      <td>{'lon': 2.393606, 'lat': 48.8487726}</td>\n",
       "      <td>2.393606</td>\n",
       "      <td>48.848773</td>\n",
       "    </tr>\n",
       "  </tbody>\n",
       "</table>\n",
       "<p>1464 rows × 6 columns</p>\n",
       "</div>"
      ],
      "text/plain": [
       "     stationcode                                      name  capacity   \n",
       "0          30002    Jean Rostand - Paul Vaillant Couturier         0  \\\n",
       "1          17044           Porte de Saint-Ouen - Bessières        42   \n",
       "2          20143                    Ramponeau - Belleville        44   \n",
       "3          16138                  Saint-Cloud - Hippodrome        30   \n",
       "4          17008                   Porte Pouchet-Bessières        23   \n",
       "...          ...                                       ...       ...   \n",
       "1459       16023               Passy - Place du Costa Rica        33   \n",
       "1460       13037                        Ivry - Baudricourt        20   \n",
       "1461       16104                 Paul Valery - Victor Hugo        35   \n",
       "1462       12105                            Bercy - Villot        34   \n",
       "1463       11201  Faubourg St-Antoine - Place de la Nation        16   \n",
       "\n",
       "                                        coordonnees_geo       lon        lat  \n",
       "0      {'lon': 2.4530601033354, 'lat': 48.908168131015}  2.453060  48.908168  \n",
       "1     {'lon': 2.32851451022192, 'lat': 48.8979224085...  2.328515  48.897922  \n",
       "2       {'lon': 2.379056852114, 'lat': 48.871031137596}  2.379057  48.871031  \n",
       "3     {'lon': 2.254910990595817, 'lat': 48.857721488...  2.254911  48.857721  \n",
       "4                 {'lon': 2.3230632, 'lat': 48.8978765}  2.323063  48.897877  \n",
       "...                                                 ...       ...        ...  \n",
       "1459              {'lon': 2.2839655, 'lat': 48.8584893}  2.283965  48.858489  \n",
       "1460  {'lon': 2.363106073577468, 'lat': 48.824695995...  2.363106  48.824696  \n",
       "1461  {'lon': 2.288712859153747, 'lat': 48.871374060...  2.288713  48.871374  \n",
       "1462   {'lon': 2.3767850184816, 'lat': 48.841795009027}  2.376785  48.841795  \n",
       "1463               {'lon': 2.393606, 'lat': 48.8487726}  2.393606  48.848773  \n",
       "\n",
       "[1464 rows x 6 columns]"
      ]
     },
     "metadata": {},
     "output_type": "display_data"
    },
    {
     "ename": "AttributeError",
     "evalue": "'Pandas' object has no attribute 'fields'",
     "output_type": "error",
     "traceback": [
      "\u001b[0;31m---------------------------------------------------------------------------\u001b[0m",
      "\u001b[0;31mAttributeError\u001b[0m                            Traceback (most recent call last)",
      "Cell \u001b[0;32mIn[1], line 10\u001b[0m\n\u001b[1;32m      7\u001b[0m display(data)\n\u001b[1;32m      9\u001b[0m \u001b[39mfor\u001b[39;00m i \u001b[39min\u001b[39;00m data\u001b[39m.\u001b[39mhead(\u001b[39m10\u001b[39m)\u001b[39m.\u001b[39mitertuples():\n\u001b[0;32m---> 10\u001b[0m     \u001b[39mprint\u001b[39m(i\u001b[39m.\u001b[39;49mfields\u001b[39m.\u001b[39mstationcode)\n",
      "\u001b[0;31mAttributeError\u001b[0m: 'Pandas' object has no attribute 'fields'"
     ]
    }
   ],
   "source": [
    "import pandas as pd\n",
    "\n",
    "data = pd.read_json(\"https://opendata.paris.fr/api/explore/v2.1/catalog/datasets/velib-emplacement-des-stations/exports/json?lang=fr&timezone=Europe%2FBerlin\")\n",
    "\n",
    "data[['lon', 'lat']] = data['coordonnees_geo'].apply(lambda x: pd.Series([x['lon'], x['lat']]))\n",
    "\n",
    "display(data)\n",
    "\n",
    "for i in data.head(10).itertuples():\n",
    "    print(i.fields.stationcode)\n"
   ]
  },
  {
   "cell_type": "code",
   "execution_count": 18,
   "metadata": {},
   "outputs": [
    {
     "name": "stdout",
     "output_type": "stream",
     "text": [
      "2023-04-15 18:16:46+02:00\n"
     ]
    },
    {
     "data": {
      "text/plain": [
       "0       2023-04-15 18:14:57+02:00\n",
       "1       2023-04-15 18:16:17+02:00\n",
       "2       2023-04-15 18:16:13+02:00\n",
       "3       2023-04-15 18:15:00+02:00\n",
       "4       2023-02-09 10:35:37+01:00\n",
       "                  ...            \n",
       "1459    2023-04-15 18:15:38+02:00\n",
       "1460    2023-04-15 18:16:14+02:00\n",
       "1461    2023-04-15 18:16:01+02:00\n",
       "1462    2023-04-15 18:16:37+02:00\n",
       "1463    2023-04-15 18:16:40+02:00\n",
       "Name: duedate, Length: 1464, dtype: object"
      ]
     },
     "metadata": {},
     "output_type": "display_data"
    }
   ],
   "source": [
    "import pandas as pd\n",
    "\n",
    "pd.set_option('display.max_rows', 500)\n",
    "\n",
    "data = pd.read_json(\"https://opendata.paris.fr/api/explore/v2.1/catalog/datasets/velib-disponibilite-en-temps-reel/exports/json?lang=fr&timezone=Europe%2FBerlin\")\n",
    "\n",
    "data = data[['stationcode', 'is_installed', 'numdocksavailable', 'numbikesavailable', 'mechanical', 'ebike', 'duedate', 'nom_arrondissement_communes']]\n",
    "\n",
    "data['duedate'] = pd.to_datetime(data['duedate'])\n",
    "\n",
    "last_update = data['duedate'].max()\n",
    "\n",
    "print(last_update)\n",
    "\n",
    "display(data['duedate'])\n"
   ]
  },
  {
   "cell_type": "code",
   "execution_count": 4,
   "metadata": {},
   "outputs": [
    {
     "name": "stdout",
     "output_type": "stream",
     "text": [
      "2021-03-01T11:00:00\n"
     ]
    }
   ],
   "source": [
    "import datetime\n",
    "import pytz\n",
    "\n",
    "# La chaîne de caractères à convertir\n",
    "date_str = '2021-03-01T12:00:00+01:00'\n",
    "\n",
    "# Parse la chaîne en un objet de date et heure\n",
    "date = datetime.datetime.fromisoformat(date_str)\n",
    "\n",
    "# Convertit le fuseau horaire en heure UTC\n",
    "utc_date = date.astimezone(pytz.utc)\n",
    "\n",
    "# Affiche la date et heure UTC au format ISO 8601\n",
    "print(utc_date.strftime('%Y-%m-%dT%H:%M:%S'))"
   ]
  },
  {
   "cell_type": "code",
   "execution_count": 20,
   "metadata": {},
   "outputs": [
    {
     "name": "stdout",
     "output_type": "stream",
     "text": [
      "2023-04-15 18:45:10+02:00\n"
     ]
    }
   ],
   "source": [
    "import pandas as pd\n",
    "\n",
    "# Exemple de données\n",
    "data = {'date_column': ['2023-04-15 18:16:46+02:00', '2023-04-15 18:16:46+02:00', '2023-04-15 18:14:57+02:00', '2023-04-15 18:45:10+02:00']}\n",
    "df = pd.DataFrame(data)\n",
    "\n",
    "# Conversion de la colonne en type datetime si ce n'est pas déjà le cas\n",
    "df['date_column'] = pd.to_datetime(df['date_column'])\n",
    "\n",
    "# Trouver la date la plus récente\n",
    "most_recent_date = df['date_column'].max()\n",
    "\n",
    "print(most_recent_date)\n"
   ]
  }
 ],
 "metadata": {
  "kernelspec": {
   "display_name": "Python 3",
   "language": "python",
   "name": "python3"
  },
  "language_info": {
   "codemirror_mode": {
    "name": "ipython",
    "version": 3
   },
   "file_extension": ".py",
   "mimetype": "text/x-python",
   "name": "python",
   "nbconvert_exporter": "python",
   "pygments_lexer": "ipython3",
   "version": "3.11.3"
  },
  "orig_nbformat": 4
 },
 "nbformat": 4,
 "nbformat_minor": 2
}
